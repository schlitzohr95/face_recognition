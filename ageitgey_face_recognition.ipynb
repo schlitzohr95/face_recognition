{
  "nbformat": 4,
  "nbformat_minor": 0,
  "metadata": {
    "colab": {
      "name": "ageitgey_face_recognition.ipynb",
      "provenance": [],
      "collapsed_sections": [],
      "authorship_tag": "ABX9TyNj13URWRYsmhKj4l/nb020",
      "include_colab_link": true
    },
    "kernelspec": {
      "name": "python3",
      "display_name": "Python 3"
    },
    "language_info": {
      "name": "python"
    }
  },
  "cells": [
    {
      "cell_type": "markdown",
      "metadata": {
        "id": "view-in-github",
        "colab_type": "text"
      },
      "source": [
        "<a href=\"https://colab.research.google.com/github/schlitzohr95/face_recognition/blob/master/ageitgey_face_recognition.ipynb\" target=\"_parent\"><img src=\"https://colab.research.google.com/assets/colab-badge.svg\" alt=\"Open In Colab\"/></a>"
      ]
    },
    {
      "cell_type": "markdown",
      "metadata": {
        "id": "nt1b62X5-jWd"
      },
      "source": [
        "#Find faces in pictures\n",
        "\n",
        "We start by loading an example picture using Python imaging library. Go ahead and run the cell bellow to see the image."
      ]
    },
    {
      "cell_type": "code",
      "metadata": {
        "id": "chPkI5Up-nl2"
      },
      "source": [
        "from PIL import Image, ImageDraw\n",
        "from IPython.display import display\n",
        "\n",
        "# The program we will be finding faces on the example below\n",
        "pil_im = Image.open('two_people.jpg')\n",
        "display(pil_im)"
      ],
      "execution_count": null,
      "outputs": []
    },
    {
      "cell_type": "markdown",
      "metadata": {
        "id": "7GCog5HU-1C_"
      },
      "source": [
        "#Learning from example\n",
        "Now we show the library two different faces (Joe Biden, Barack Obama) and generate the encodings for them. Encoding is simply a low dimensional representation of a face that can be easily compared with other faces the library will recognize in the future."
      ]
    },
    {
      "cell_type": "code",
      "metadata": {
        "id": "J2yz5O32-_Fz"
      },
      "source": [
        "import face_recognition\n",
        "import numpy as np\n",
        "from PIL import Image, ImageDraw\n",
        "from IPython.display import display\n",
        "\n",
        "# This is an example of running face recognition on a single image\n",
        "# and drawing a box around each person that was identified.\n",
        "\n",
        "# Load a sample picture and learn how to recognize it.\n",
        "obama_image = face_recognition.load_image_file(\"obama.jpg\")\n",
        "obama_face_encoding = face_recognition.face_encodings(obama_image)[0]\n",
        "\n",
        "# Load a second sample picture and learn how to recognize it.\n",
        "biden_image = face_recognition.load_image_file(\"biden.jpg\")\n",
        "biden_face_encoding = face_recognition.face_encodings(biden_image)[0]\n",
        "\n",
        "# Create arrays of known face encodings and their names\n",
        "known_face_encodings = [\n",
        "    obama_face_encoding,\n",
        "    biden_face_encoding\n",
        "]\n",
        "known_face_names = [\n",
        "    \"Barack Obama\",\n",
        "    \"Joe Biden\"\n",
        "]\n",
        "print('Learned encoding for', len(known_face_encodings), 'images.')"
      ],
      "execution_count": null,
      "outputs": []
    },
    {
      "cell_type": "markdown",
      "metadata": {
        "id": "qNK-YcYV_ACe"
      },
      "source": [
        "# Showtime\n",
        "Finally, we load the image we looked at in the first cell, find the faces in the image and compare them with the encodings the library generated in the previous step. We can see that library now correctly recognizes Barack and Joe in the input."
      ]
    },
    {
      "cell_type": "code",
      "metadata": {
        "id": "m5eIB9gO_Rmq"
      },
      "source": [
        "# Load an image with an unknown face\n",
        "unknown_image = face_recognition.load_image_file(\"two_people.jpg\")\n",
        "\n",
        "# Find all the faces and face encodings in the unknown image\n",
        "face_locations = face_recognition.face_locations(unknown_image)\n",
        "face_encodings = face_recognition.face_encodings(unknown_image, face_locations)\n",
        "\n",
        "# Convert the image to a PIL-format image so that we can draw on top of it with the Pillow library\n",
        "# See http://pillow.readthedocs.io/ for more about PIL/Pillow\n",
        "pil_image = Image.fromarray(unknown_image)\n",
        "# Create a Pillow ImageDraw Draw instance to draw with\n",
        "draw = ImageDraw.Draw(pil_image)\n",
        "\n",
        "# Loop through each face found in the unknown image\n",
        "for (top, right, bottom, left), face_encoding in zip(face_locations, face_encodings):\n",
        "    # See if the face is a match for the known face(s)\n",
        "    matches = face_recognition.compare_faces(known_face_encodings, face_encoding)\n",
        "\n",
        "    name = \"Unknown\"\n",
        "\n",
        "    # Or instead, use the known face with the smallest distance to the new face\n",
        "    face_distances = face_recognition.face_distance(known_face_encodings, face_encoding)\n",
        "    best_match_index = np.argmin(face_distances)\n",
        "    if matches[best_match_index]:\n",
        "        name = known_face_names[best_match_index]\n",
        "\n",
        "    # Draw a box around the face using the Pillow module\n",
        "    draw.rectangle(((left, top), (right, bottom)), outline=(0, 0, 255))\n",
        "\n",
        "    # Draw a label with a name below the face\n",
        "    text_width, text_height = draw.textsize(name)\n",
        "    draw.rectangle(((left, bottom - text_height - 10), (right, bottom)), fill=(0, 0, 255), outline=(0, 0, 255))\n",
        "    draw.text((left + 6, bottom - text_height - 5), name, fill=(255, 255, 255, 255))\n",
        "\n",
        "\n",
        "# Remove the drawing library from memory as per the Pillow docs\n",
        "del draw\n",
        "\n",
        "# Display the resulting image\n",
        "display(pil_image)"
      ],
      "execution_count": null,
      "outputs": []
    }
  ]
}